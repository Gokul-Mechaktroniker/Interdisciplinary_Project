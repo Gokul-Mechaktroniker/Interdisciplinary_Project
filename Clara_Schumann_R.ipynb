{
  "nbformat": 4,
  "nbformat_minor": 0,
  "metadata": {
    "colab": {
      "provenance": [],
      "authorship_tag": "ABX9TyPf9dQ/DTbZGiSv9RpFIgwe",
      "include_colab_link": true
    },
    "kernelspec": {
      "name": "python3",
      "display_name": "Python 3"
    },
    "language_info": {
      "name": "python"
    }
  },
  "cells": [
    {
      "cell_type": "markdown",
      "metadata": {
        "id": "view-in-github",
        "colab_type": "text"
      },
      "source": [
        "<a href=\"https://colab.research.google.com/github/Gokul-Mechaktroniker/Interdisciplinary_Project/blob/main/Clara_Schumann_R.ipynb\" target=\"_parent\"><img src=\"https://colab.research.google.com/assets/colab-badge.svg\" alt=\"Open In Colab\"/></a>"
      ]
    },
    {
      "cell_type": "code",
      "execution_count": null,
      "metadata": {
        "id": "XfqGXsid7pfd"
      },
      "outputs": [],
      "source": [
        "!pip install --upgrade langchain openai -q\n",
        "!pip install unstructured -q\n",
        "!pip install unstructured[local-inference] -q\n",
        "!pip install detectron2@git+https://github.com/facebookresearch/detectron2.git@v0.6#egg=detectron2 -q\n",
        "!apt-get install poppler-utils"
      ]
    },
    {
      "cell_type": "code",
      "source": [
        "!pip install openai langchain sentence_transformers -q\n",
        "!pip install chromadb -q"
      ],
      "metadata": {
        "id": "Uod_jgZq7q3Z"
      },
      "execution_count": null,
      "outputs": []
    },
    {
      "cell_type": "code",
      "source": [
        "from langchain.document_loaders import DirectoryLoader\n",
        "\n",
        "directory = '/content/data'\n",
        "\n",
        "def load_docs(directory):\n",
        "  loader = DirectoryLoader(directory)\n",
        "  documents = loader.load()\n",
        "  return documents\n",
        "\n",
        "documents = load_docs(directory)\n",
        "len(documents)"
      ],
      "metadata": {
        "id": "8UtH6Leb8q67"
      },
      "execution_count": null,
      "outputs": []
    },
    {
      "cell_type": "code",
      "source": [
        "from langchain.text_splitter import RecursiveCharacterTextSplitter\n",
        "\n",
        "def split_docs(documents,chunk_size=1000,chunk_overlap=20):\n",
        "  text_splitter = RecursiveCharacterTextSplitter(chunk_size=chunk_size, chunk_overlap=chunk_overlap)\n",
        "  docs = text_splitter.split_documents(documents)\n",
        "  return docs\n",
        "\n",
        "docs = split_docs(documents)\n",
        "print(len(docs))"
      ],
      "metadata": {
        "colab": {
          "base_uri": "https://localhost:8080/"
        },
        "id": "XQR7VkHR9-Pk",
        "outputId": "145d5ec3-2396-47b9-8b39-155f84b9340c"
      },
      "execution_count": null,
      "outputs": [
        {
          "output_type": "stream",
          "name": "stdout",
          "text": [
            "3831\n"
          ]
        }
      ]
    },
    {
      "cell_type": "code",
      "source": [
        "from langchain.embeddings import SentenceTransformerEmbeddings\n",
        "embeddings = SentenceTransformerEmbeddings(model_name=\"all-MiniLM-L6-v2\")"
      ],
      "metadata": {
        "id": "k1OdKXd1_Jib"
      },
      "execution_count": null,
      "outputs": []
    },
    {
      "cell_type": "code",
      "source": [
        "from langchain.vectorstores import Chroma\n",
        "db = Chroma.from_documents(docs, embeddings)\n"
      ],
      "metadata": {
        "id": "4vsSAZi-_z1o"
      },
      "execution_count": null,
      "outputs": []
    },
    {
      "cell_type": "code",
      "source": [
        "query = \"Wann plant der Absender, am Dienstag aufzustehen, und welche Einladung richtet er aus?\"\n",
        "matching_docs = db.similarity_search(query)"
      ],
      "metadata": {
        "id": "V9wAREBuAgj5"
      },
      "execution_count": null,
      "outputs": []
    },
    {
      "cell_type": "code",
      "source": [
        "print(matching_docs[0].page_content)"
      ],
      "metadata": {
        "colab": {
          "base_uri": "https://localhost:8080/"
        },
        "id": "g3nRUTOaBSQH",
        "outputId": "c2e6d977-9593-4f65-cef7-16c0590e3e55"
      },
      "execution_count": null,
      "outputs": [
        {
          "output_type": "stream",
          "name": "stdout",
          "text": [
            "mir. Er soll Serres nicht ganz vergessen und mich auch einmal mit ein paar Zeilen überraschen (wenn du es erlaubst).\n"
          ]
        }
      ]
    },
    {
      "cell_type": "code",
      "source": [
        "matching_docs = db.similarity_search_with_score(query,k=5)\n",
        "matching_docs"
      ],
      "metadata": {
        "id": "e3qHrY-vBYm3",
        "colab": {
          "base_uri": "https://localhost:8080/"
        },
        "outputId": "eb2e26d9-aee6-41b1-f4b0-c50f0a42acab"
      },
      "execution_count": null,
      "outputs": [
        {
          "output_type": "execute_result",
          "data": {
            "text/plain": [
              "[(Document(page_content='mir. Er soll Serres nicht ganz vergessen und mich auch einmal mit ein paar Zeilen überraschen (wenn du es erlaubst).', metadata={'source': '/content/data/cs.txt'}),\n",
              "  1.0381678342819214),\n",
              " (Document(page_content='abstumpfen. Wenn sie mir nicht 24 Franken für 2 Stunden (hintereinander) bezahlen würden, würde ich nicht hingehen.', metadata={'source': '/content/data/cs.txt'}),\n",
              "  1.0720456838607788),\n",
              " (Document(page_content='liebt mich und dich außerordentlich. Nun also keine anderen Gedanken mehr.', metadata={'source': '/content/data/cs.txt'}),\n",
              "  1.1266183853149414),\n",
              " (Document(page_content='Von ganzem Herzen und mit aller unaussprechlichen Liebe küsst dich deine treue Braut Clärchen.', metadata={'source': '/content/data/cs.txt'}),\n",
              "  1.1647857427597046),\n",
              " (Document(page_content='und zu wenig gemütlich. Nicht wahr, du bist einverstanden?', metadata={'source': '/content/data/cs.txt'}),\n",
              "  1.19193434715271)]"
            ]
          },
          "metadata": {},
          "execution_count": 9
        }
      ]
    },
    {
      "cell_type": "code",
      "source": [
        "persist_directory = \"chroma_db\"\n",
        "\n",
        "vectordb = Chroma.from_documents(documents=docs, embedding=embeddings, persist_directory=persist_directory)"
      ],
      "metadata": {
        "id": "z80w2hyDIpYQ"
      },
      "execution_count": null,
      "outputs": []
    },
    {
      "cell_type": "code",
      "source": [
        "vectordb.persist()"
      ],
      "metadata": {
        "id": "V09S948hJvTo"
      },
      "execution_count": null,
      "outputs": []
    },
    {
      "cell_type": "code",
      "source": [
        "new_db = Chroma(persist_directory=persist_directory, embedding_function=embeddings)"
      ],
      "metadata": {
        "id": "0jlGq8OkJdBz"
      },
      "execution_count": null,
      "outputs": []
    },
    {
      "cell_type": "code",
      "source": [
        "matching_docs = new_db.similarity_search_with_score(query)\n",
        "matching_docs[0]"
      ],
      "metadata": {
        "colab": {
          "base_uri": "https://localhost:8080/"
        },
        "id": "vV0pmYfhJzBF",
        "outputId": "491d688c-8d19-4955-ff43-a534b7dc1e28"
      },
      "execution_count": null,
      "outputs": [
        {
          "output_type": "execute_result",
          "data": {
            "text/plain": [
              "(Document(page_content='mir. Er soll Serres nicht ganz vergessen und mich auch einmal mit ein paar Zeilen überraschen (wenn du es erlaubst).', metadata={'source': '/content/data/cs.txt'}),\n",
              " 1.0381678342819214)"
            ]
          },
          "metadata": {},
          "execution_count": 13
        }
      ]
    },
    {
      "cell_type": "code",
      "source": [
        "import os\n",
        "os.environ[\"OPENAI_API_KEY\"] = \"sk-srsxrctg\" # Enter your openai api key here"
      ],
      "metadata": {
        "id": "bhczz4aGL18k"
      },
      "execution_count": null,
      "outputs": []
    },
    {
      "cell_type": "code",
      "source": [
        "from langchain.chat_models import ChatOpenAI\n",
        "model_name = \"gpt-3.5-turbo\"\n",
        "llm = ChatOpenAI(model_name=model_name)"
      ],
      "metadata": {
        "id": "dM4gVyuwMRPW"
      },
      "execution_count": null,
      "outputs": []
    },
    {
      "cell_type": "code",
      "source": [
        "from langchain.chains.question_answering import load_qa_chain\n",
        "chain = load_qa_chain(llm, chain_type=\"stuff\")"
      ],
      "metadata": {
        "id": "uowTjCdSMlIU"
      },
      "execution_count": null,
      "outputs": []
    },
    {
      "cell_type": "code",
      "source": [
        "query = \"In welchem Zeitraum schickte Clara Schumann Briefe an Robert Schumann?\"\n",
        "matching_docs = db.similarity_search(query)\n",
        "answer = chain.run(input_documents=matching_docs, question=query,)\n",
        "answer"
      ],
      "metadata": {
        "colab": {
          "base_uri": "https://localhost:8080/",
          "height": 88
        },
        "id": "Ai1XjUWsM4fd",
        "outputId": "402221a9-b6d6-4134-d67f-76588bd689a0"
      },
      "execution_count": null,
      "outputs": [
        {
          "output_type": "execute_result",
          "data": {
            "text/plain": [
              "'Clara Wieck schickte Briefe an Robert Schumann in verschiedenen Zeiträumen. Ein Brief wurde am Montag, den 17. Dezember 1832, von Zwickau nach Leipzig geschickt. Weitere Briefe wurden am Samstag, den 22. und Sonntag, den 23. September 1838, von Zwickau nach Leipzig geschickt. Ein weiterer Brief wurde am Sonntag, den 20. und Montag, den 21. Januar 1839, von Wien nach Stuttgart geschickt. Es ist jedoch möglich, dass es noch weitere Briefe zwischen ihnen gab, von denen wir keine Informationen haben.'"
            ],
            "application/vnd.google.colaboratory.intrinsic+json": {
              "type": "string"
            }
          },
          "metadata": {},
          "execution_count": 27
        }
      ]
    },
    {
      "cell_type": "code",
      "source": [
        "from langchain.chains import RetrievalQA\n",
        "retrieval_chain = RetrievalQA.from_chain_type(llm, chain_type=\"stuff\", retriever=db.as_retriever())\n",
        "retrieval_chain.run(query)"
      ],
      "metadata": {
        "colab": {
          "base_uri": "https://localhost:8080/",
          "height": 53
        },
        "id": "e8TOww5Slafp",
        "outputId": "0cab6a59-f484-4f1a-9b83-26629301672b"
      },
      "execution_count": null,
      "outputs": [
        {
          "output_type": "execute_result",
          "data": {
            "text/plain": [
              "'Clara Schumann schickte Briefe an Robert Schumann im Zeitraum von Montag, 17. Dezember 1832, Samstag, 22. und Sonntag, 23. September 1838, sowie Sonntag, 20. und Montag, 21. Januar 1839.'"
            ],
            "application/vnd.google.colaboratory.intrinsic+json": {
              "type": "string"
            }
          },
          "metadata": {},
          "execution_count": 28
        }
      ]
    }
  ]
}